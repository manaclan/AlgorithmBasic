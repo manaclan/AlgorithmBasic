{
  "nbformat": 4,
  "nbformat_minor": 0,
  "metadata": {
    "colab": {
      "name": "Stack & Queue",
      "provenance": [],
      "collapsed_sections": []
    },
    "kernelspec": {
      "name": "python3",
      "display_name": "Python 3"
    }
  },
  "cells": [
    {
      "cell_type": "markdown",
      "metadata": {
        "id": "EwAQS_x1h3oV",
        "colab_type": "text"
      },
      "source": [
        "* **Adapter pattern:** where we want to modify an existing class  that its methods match those of a related, but different, class or interface   \n",
        "* One general way to apply the adapter pattern is to define a new class in such a way that it contains an instance of the existing class as a hidden field, and then to implement each method of the new class using methods of this hidden instance variable"
      ]
    },
    {
      "cell_type": "markdown",
      "metadata": {
        "id": "NhLtwltBmY_u",
        "colab_type": "text"
      },
      "source": [
        "# Implement Stack using python list"
      ]
    },
    {
      "cell_type": "code",
      "metadata": {
        "id": "vl1KJPlk05n9",
        "colab_type": "code",
        "outputId": "e5473945-5627-4f5b-e6a8-e98239e57c3f",
        "colab": {
          "base_uri": "https://localhost:8080/",
          "height": 61
        }
      },
      "source": [
        "\"\"\"\n",
        "  Phuong thuc |   Do phuc tap\n",
        "      push    |      O(1)\n",
        "      pop     |      O(1)\n",
        "    is_empty  |      O(1)\n",
        "      len     |      O(1)\n",
        "\"\"\""
      ],
      "execution_count": 0,
      "outputs": [
        {
          "output_type": "execute_result",
          "data": {
            "text/plain": [
              "'\\n  Phuong thuc |   Do phuc tap\\n      push    |      O(1)\\n      pop     |      O(1)\\n    is_empty  |      O(1)\\n      len     |      O(1)\\n'"
            ]
          },
          "metadata": {
            "tags": []
          },
          "execution_count": 1
        }
      ]
    },
    {
      "cell_type": "code",
      "metadata": {
        "id": "SOR-Qcagm1f0",
        "colab_type": "code",
        "colab": {}
      },
      "source": [
        "# Exception when call pop or top of a emty stack\n",
        "class Empty(Exception):\n",
        "  \"\"\"Error attempting to access an element from an empty container.\"\"\"\n",
        "  pass"
      ],
      "execution_count": 0,
      "outputs": []
    },
    {
      "cell_type": "code",
      "metadata": {
        "id": "2j70AvZnnBqC",
        "colab_type": "code",
        "colab": {}
      },
      "source": [
        "class ArrayStack:\n",
        "  \"\"\"LIFO stack implementation using python list as underlying storage\"\"\"\n",
        "  def __init__(self):\n",
        "    self._data = []\n",
        "  def __len__(self):\n",
        "    return len(self._data)\n",
        "  def is_empty(self):\n",
        "    return len(self._data)==0\n",
        "  def push(self,e):\n",
        "    self._data.append(e)\n",
        "  def top(self):\n",
        "    if self.is_empty():\n",
        "      raise Empty('Stack is empty')\n",
        "    return self._data[-1]\n",
        "  def pop(self):\n",
        "    if self.is_empty():\n",
        "      raise Empty('Stack is empty')\n",
        "    return self._data.pop()"
      ],
      "execution_count": 0,
      "outputs": []
    },
    {
      "cell_type": "code",
      "metadata": {
        "id": "VnMgeGy-gyOH",
        "colab_type": "code",
        "colab": {}
      },
      "source": [
        "\"\"\"\n",
        "Chương trình đảo ngược tên file bằng stack\n",
        "\"\"\"\n",
        "def reverse_file(filename):\n",
        "  S = ArrayStack()\n",
        "  original = open(filename)\n",
        "  for line in original:\n",
        "    S.push(line.rstrip('\\n'))\n",
        "  original.close()\n",
        "\n",
        "  output =  open(filename,'w')\n",
        "  while not S.is_empty():\n",
        "    output.write(S.pop()+'\\n')\n",
        "  output.close()\n",
        "  "
      ],
      "execution_count": 0,
      "outputs": []
    },
    {
      "cell_type": "markdown",
      "metadata": {
        "colab_type": "text",
        "id": "ewHjCj1chjw0"
      },
      "source": [
        "# Implement Queue using python list"
      ]
    },
    {
      "cell_type": "markdown",
      "metadata": {
        "id": "Cz0PzjqThfIG",
        "colab_type": "text"
      },
      "source": [
        "If using list as ADT of Queue:\n",
        "* enqueue by calling append\n",
        "* pop by calling pop(0)\n",
        "\n",
        "But this is extremely inefficient. Bc:\n",
        "* If pop is called on a list with non-default index, a loop is executed to shift all elements beyond the specified index to the left.so pop(0) is always the worst case of $\\Theta(n)$ times\n",
        "* we can fix it by avoiding the call to pop(0). Instead  replace the dequeued entry in the array with a reference to None, and maintain an explicit variable f to store the index of the element that is currently at the\n",
        "front of the queue. Such an algorithm for dequeue would run in O(1) time \n",
        "\n",
        "But even doing so still have problem:\n",
        "* if we continuously enqueue and dequeue, the list we expand to $O(m)$ with $m$ is the total enqueue operation that we made.\n",
        "\n",
        "\n",
        "Thus, we will made a Queue with array circularly"
      ]
    },
    {
      "cell_type": "code",
      "metadata": {
        "id": "ADLqBIyf-nO_",
        "colab_type": "code",
        "colab": {}
      },
      "source": [
        "\"\"\"\n",
        "  Phuong thuc |   Do phuc tap\n",
        "  enqueue(e)  |      O(1)\n",
        "   dequeue    |      O(1)\n",
        "    first     |      O(1)\n",
        "   is_empty   |      O(1)\n",
        "     len      |      O(1)\n",
        "\"\"\""
      ],
      "execution_count": 0,
      "outputs": []
    },
    {
      "cell_type": "code",
      "metadata": {
        "id": "BF4sSVb_ykYG",
        "colab_type": "code",
        "colab": {}
      },
      "source": [
        "class ArrayQueue:\n",
        "  DEFAULT_CAPACITY = 10\n",
        "\n",
        "  def __init__(self):\n",
        "    self._data = [None]*ArrayQueue.DEFAULT_CAPACITY\n",
        "    self._size = 0\n",
        "    self._front = 0\n",
        "\n",
        "  def __len__(self):\n",
        "    return self._size\n",
        "\n",
        "  def is_empty(self):\n",
        "    return self._size==0\n",
        "\n",
        "  def first(self):\n",
        "    if self.is_empty():\n",
        "      raise Empty('Queue is empty')\n",
        "    return self._data[self._f ront]\n",
        "  \n",
        "  def dequeue(self):\n",
        "    if self.is_empty():\n",
        "      raise Empty('Queue is empty')\n",
        "    answer = self._data[self._front]\n",
        "    self._data[self._front] = None #help garbage collection\n",
        "    self._front = (self._front+1)%len(self._data)\n",
        "    self._size -= 1\n",
        "    return answer\n",
        "\n",
        "  def enqueue(self,e):\n",
        "    if self._size == len(self._data):\n",
        "      self._resize(2*len(self._data)) #double array size\n",
        "    avail = (self._front + self._size) % len(self._data)\n",
        "    self._data[avail] = e\n",
        "    self._size += 1\n",
        "\n",
        "  def _resize(self, cap):\n",
        "    old = self._data\n",
        "    self._data = [None] * cap\n",
        "    walk = self._front\n",
        "    for k in range(self._size):\n",
        "      self._data[k] = old[walk]\n",
        "      walk = (1+walk)%len(old)\n",
        "    self._front = 0"
      ],
      "execution_count": 0,
      "outputs": []
    },
    {
      "cell_type": "markdown",
      "metadata": {
        "id": "Ro0k6gsnKQbF",
        "colab_type": "text"
      },
      "source": [
        "# Double ended queue\n",
        "or **deque**, which is usually pronounced “deck”.  \n",
        "Method:  \n",
        "* D.add_first(e): Add element e to the front of deque D.  \n",
        "* D.add_last(e): Add element e to the back of deque D.  \n",
        "* D.delete_first( ): Remove and return the first element from deque D; an error occurs if the deque is empty.  \n",
        "* D.delete_last( ): Remove and return the last element from deque D; an error occurs if the deque is empty. \n",
        "* D.first( ): Return (but do not remove) the first element of deque D; an error occurs if the deque is empty. \n",
        "* D.last( ): Return (but do not remove) the last element of deque D; an error occurs if the deque is empty.\n",
        "* D.is_empty( ): Return True if deque D does not contain any elements.\n",
        "* len(D): Return the number of elements in deque D; in Python, we implement this with the special method len.  \n",
        "\n",
        "Tất cả có độ phức tạp O(1)"
      ]
    },
    {
      "cell_type": "code",
      "metadata": {
        "id": "6dd-QlmJsccF",
        "colab_type": "code",
        "colab": {}
      },
      "source": [
        "class ArrayDeue:\n",
        "  DEFAULT_CAPACITY = 10\n",
        "\n",
        "  def __init__(self):\n",
        "    self._data = [None]*ArrayQueue.DEFAULT_CAPACITY\n",
        "    self._size = 0\n",
        "    self._front = 0\n",
        "  def __len__(self):\n",
        "    return self._size\n",
        "\n",
        "  def is_empty(self):\n",
        "    return self._size\n",
        "\n",
        "  def first(self):\n",
        "    if self.is_empty():\n",
        "      raise Empty('Queue is empty')\n",
        "    return self._data[self._front]\n",
        "\n",
        "  def last(self):\n",
        "    if self.is_empty():\n",
        "      raise Empty('Queue is empty')\n",
        "    end = (self._front+self._size-1) % len(self.data)\n",
        "    return self._data[end]\n",
        "  \n",
        "  def add_first(self,e):\n",
        "    #trường hợp size của queue cố định thì cứ quăng exception queue full ra\n",
        "    if self._size == len(self._data):\n",
        "      self._resize(2*len(self._data)) #double array size\n",
        "    avail = (self._front + self._size) % len(self._data)\n",
        "    self._front = (self._front-1)%len(self._data)\n",
        "    self._data[self._front] = e\n",
        "    self._size += 1\n",
        "\n",
        "  def add_last(self,e):\n",
        "    if self._size == len(self._data):\n",
        "      self._resize(2*len(self._data)) #double array size\n",
        "    avail = (self._front + self._size) % len(self._data)\n",
        "    self._data[avail] = e\n",
        "    self._size += 1\n",
        "\n",
        "  def delete_first(self):\n",
        "    if self.is_empty():\n",
        "      raise Empty('Queue is empty')\n",
        "    answer = self._data[self._front]\n",
        "    self._data[self._front] = None #help garbage collection\n",
        "    self._front = (self._front+1)%len(self._data)\n",
        "    self._size -= 1\n",
        "    return answer\n",
        "\n",
        "  def delete_last(self):\n",
        "    if self.is_empty():\n",
        "      raise Empty('Queue is empty')\n",
        "    end = (self._front+self._size-1) % len(self.data)\n",
        "    answer = self._data[end]\n",
        "    self._data[end] = None #help garbage collection\n",
        "    self._size -= 1\n",
        "    return answer\n",
        "\n",
        "  def _resize(self, cap):\n",
        "    old = self._data\n",
        "    self._data = [None] * cap\n",
        "    walk = self._front\n",
        "    for k in range(self._size):\n",
        "      self._data[k] = old[walk]\n",
        "      walk = (1+walk)%len(old)\n",
        "    self._front = 0"
      ],
      "execution_count": 0,
      "outputs": []
    },
    {
      "cell_type": "code",
      "metadata": {
        "id": "0-qYwjySKVzp",
        "colab_type": "code",
        "outputId": "54b1c79a-633c-49ed-d1d6-8cff128f790c",
        "colab": {
          "base_uri": "https://localhost:8080/",
          "height": 41
        }
      },
      "source": [
        "-1%10"
      ],
      "execution_count": 0,
      "outputs": [
        {
          "output_type": "execute_result",
          "data": {
            "text/plain": [
              "9"
            ]
          },
          "metadata": {
            "tags": []
          },
          "execution_count": 1
        }
      ]
    }
  ]
}