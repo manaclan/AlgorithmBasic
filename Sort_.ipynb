{
  "nbformat": 4,
  "nbformat_minor": 0,
  "metadata": {
    "colab": {
      "name": "Sort .ipynb",
      "provenance": [],
      "collapsed_sections": []
    },
    "kernelspec": {
      "name": "python3",
      "display_name": "Python 3"
    }
  },
  "cells": [
    {
      "cell_type": "code",
      "metadata": {
        "id": "6ykJ2bsD1SVK",
        "colab_type": "code",
        "outputId": "b490ecc4-2370-40af-ea9f-dc9500245a4e",
        "colab": {
          "base_uri": "https://localhost:8080/",
          "height": 65
        }
      },
      "source": [
        "import random\n",
        "from random import randint\n",
        "'''\n",
        "\n",
        "Độ phức tạp:\n",
        "      n^2      |      nlogn      |      n\n",
        "Selection sort,|Heap sort, Quick |Insertion Sort(tốt nhất)\n",
        "Insertion sort |sort,            |\n",
        "(xấu nhất),    |\n",
        "Interchange    |\n",
        "sort, Bubble   |\n",
        "sort, Shaker   |\n",
        "sort, Quick    |\n",
        "sort(xấu nhất) |\n",
        "\n",
        "Interchange Sort, Bubble Sort, Shaker Sort, Insertion Sort, Selection Sort: đơn\n",
        "  giản nhưng chi phí cao\n",
        "Heap Sort, Quick Sort, Merge Sort: phức tạp nhưng hiệu suất cao hơn\n",
        "\n",
        "Ý tưởng của đa số là dựa trên việc so sánh giá trị của các phần tử trong mảng\n",
        "Chỉ có Radix sort không dựa trên các phương pháp này\n",
        "\n",
        "'''"
      ],
      "execution_count": 0,
      "outputs": [
        {
          "output_type": "execute_result",
          "data": {
            "text/plain": [
              "'\\nInterchange Sort, Bubble Sort, Shaker Sort, Insertion Sort, Selection Sort: đơn\\n  giản nhưng chi phí cao\\nHeap Sort, Quick Sort, Merge Sort: phức tạp nhưng hiệu suất cao hơn\\n\\nÝ tưởng của đa số là dựa trên việc so sánh giá trị của các phần tử trong mảng\\nChỉ có Radix sort không dựa trên các phương pháp này\\n'"
            ]
          },
          "metadata": {
            "tags": []
          },
          "execution_count": 1
        }
      ]
    },
    {
      "cell_type": "code",
      "metadata": {
        "id": "XXZsRNBc1Ns9",
        "colab_type": "code",
        "outputId": "f8d79e82-54b1-4b37-b1a2-184d19606b0d",
        "colab": {
          "base_uri": "https://localhost:8080/",
          "height": 42
        }
      },
      "source": [
        "'''\n",
        "Selection Sort\n",
        "Ý tưởng: Tìm ra thằng nhỏ nhất tại mỗi i\n",
        "B1: i = 1\n",
        "B2: Tìm a[min] trong dãy a[i]->a[N]\n",
        "B3: Hoán vị a[min] với a[i]\n",
        "B4: Nếu i<= N thì i+=1.\n",
        "    Ngược lại dừng\n",
        "    \n",
        "Trường hợp   |    Số lần so sánh   |   Số phép gán\n",
        "Tốt nhất     |     n(n-1)/2        | 0\n",
        "Xấu nhất     |     n(n-1)/2        | 3n(n-1)/2 \n",
        "'''\n",
        "a = [randint(-1<<8, 1<<8) for p in range(0, 10)]\n",
        "def Selection_Sort(a):\n",
        "  i = 0 \n",
        "  while i< len(a):\n",
        "    minimum = i #xài min không được do nó dc define sẵn trong py\n",
        "    for j in range(i+1,len(a)):\n",
        "      if a[minimum]>a[j]:\n",
        "        minimum = j\n",
        "    a[minimum],a[i] = a[i], a[minimum]\n",
        "    i+=1\n",
        "Selection_Sort(a)\n",
        "print(a)"
      ],
      "execution_count": 0,
      "outputs": [
        {
          "output_type": "stream",
          "text": [
            "[-221, -194, -194, -151, -107, -94, -15, 9, 52, 170]\n"
          ],
          "name": "stdout"
        }
      ]
    },
    {
      "cell_type": "code",
      "metadata": {
        "id": "fn3L3tRhKqua",
        "colab_type": "code",
        "outputId": "066f0ea6-067f-4b85-9b8b-67ce19cb4b6f",
        "colab": {
          "base_uri": "https://localhost:8080/",
          "height": 73
        }
      },
      "source": [
        "'''\n",
        "Insertion Sort\n",
        "Ý tưởng: Giả sử i phần tử đầu tiên đã được sắp xếp, ta cần sắp a[i+1] vào dãy \n",
        "  này\n",
        "B1: i = 2\n",
        "B2: x = a[i] tìm vị pos trong đoạn a[1] a[i-1] để chèn \n",
        "B3: Dịch các phần tử từ pos đến i-1 1 sang phải 1 để có chỗ chèn a[i]\n",
        "B4: a[pos] = x.\n",
        "B5: i+=1\n",
        "    i<=N: Quay lại bước 2\n",
        "    Ngược lại: Dừng\n",
        "    \n",
        "Trường hợp   |    Số lần so sánh   |   Số phép gán\n",
        "Tốt nhất     |     n-1             | 2(n-1)\n",
        "Xấu nhất     |     n(n-1)/2        | n(n+1)/2 - 1\n",
        "'''\n",
        "a = [randint(-1<<8,1<<8) for p in range(0,10)]\n",
        "print(a)\n",
        "def Insertion_Sort(a):\n",
        "  for i in range(1,len(a)):\n",
        "    pos = i-1\n",
        "    x = a[i]\n",
        "    while pos>=0 and a[pos] > x:\n",
        "      a[pos+1]= a[pos]\n",
        "      pos -=1\n",
        "    a[pos+1]=x\n",
        "Insertion_Sort(a)\n",
        "print(a)"
      ],
      "execution_count": 0,
      "outputs": [
        {
          "output_type": "stream",
          "text": [
            "[-13, -26, -62, -105, -131, -6, -2, 244, 135, 98]\n",
            "[-131, -105, -62, -26, -13, -6, -2, 98, 135, 244]\n"
          ],
          "name": "stdout"
        }
      ]
    },
    {
      "cell_type": "code",
      "metadata": {
        "id": "YSwTvcNVQzA7",
        "colab_type": "code",
        "outputId": "61748676-1be6-4ac3-d5ba-2acddd00bf43",
        "colab": {
          "base_uri": "https://localhost:8080/",
          "height": 87
        }
      },
      "source": [
        "'''\n",
        "Ineterchange Sort\n",
        "Ý tưởng: Đổi chỗ các nghịch thế\n",
        "B1: i = 1\n",
        "B2: j = i+1\n",
        "B3: \n",
        "    while j<N:\n",
        "      if a[j]<a[i]: Đổi chỗ\n",
        "      j=j+1\n",
        "B4: i=i+1\n",
        "    Nếu i<N: lặp lại B2\n",
        "    Ngược lại:Dừng\n",
        "    \n",
        "Trường hợp   |    Số lần so sánh   |   Số phép gán\n",
        "Tốt nhất     |     n(n-1)/2        | 0\n",
        "Xấu nhất     |     n(n-1)/2        | n(n-1)/2 \n",
        "'''\n",
        "a = [randint(-1<<8,1<<8) for p in range(0,10)]\n",
        "print(a)\n",
        "def Ineterchange_Sort(a):\n",
        "  i=0\n",
        "  for i in range(i+1,len(a)):\n",
        "    for j in range(i+1,len(a)):\n",
        "      if a[j]<a[i]:\n",
        "        a[j],a[i] = a[i],a[j]\n",
        "Ineterchange_Sort(a)\n",
        "print(a)"
      ],
      "execution_count": 0,
      "outputs": [
        {
          "output_type": "stream",
          "text": [
            "[100324496742238308622138808307879599887, 284619930926031225949543587757129466527, -293861499821438971516020368901665212848, -115951778701411520476279546665741389449, -135431359247860255669408304709274154688, 102425940133235529346065194447461769859, -76260274992960877791244662968945064343, -140543297793213445114850930989573846188, 108411344060052133594021517349972540252, -200150757415101321059122455288702139533]\n",
            "[100324496742238308622138808307879599887, -293861499821438971516020368901665212848, -200150757415101321059122455288702139533, -140543297793213445114850930989573846188, -135431359247860255669408304709274154688, -115951778701411520476279546665741389449, -76260274992960877791244662968945064343, 102425940133235529346065194447461769859, 108411344060052133594021517349972540252, 284619930926031225949543587757129466527]\n"
          ],
          "name": "stdout"
        }
      ]
    },
    {
      "cell_type": "code",
      "metadata": {
        "id": "R3qwzYXYRwsZ",
        "colab_type": "code",
        "outputId": "25bca232-99c0-466f-a0a7-fb7c8b6905e6",
        "colab": {
          "base_uri": "https://localhost:8080/",
          "height": 67
        }
      },
      "source": [
        "'''\n",
        "Bubble Sort\n",
        "Ý tưởng: Bong bóng nhẹ sẽ nổi lên trên\n",
        "        Bắt đầu từ cuối dãy về đầu. Đổi chỗ 2 thằng kế bên để thằng nhỏ(hoặc lớn)\n",
        "        trôi dần lên đầu\n",
        "B1: i = 1\n",
        "B2: j = N\n",
        "B3: \n",
        "    while j<i:\n",
        "      if a[j]<a[j-1]: Đổi chỗ\n",
        "      j=j-1\n",
        "B4: i=i+1\n",
        "    Nếu i>n-1: Dừng\n",
        "    Lặp lại B2\n",
        "    \n",
        "Trường hợp   |    Số lần so sánh   |   Số phép gán\n",
        "Tốt nhất     |     n(n-1)/2        | 0\n",
        "Xấu nhất     |     n(n-1)/2        | n(n-1)/2 \n",
        "'''\n",
        "a = [randint(-1<<8,1<<8) for p in range(0,10)]\n",
        "print(a)\n",
        "def Bubble_Sort(a):\n",
        "  i=0\n",
        "  for i in range(len(a)):\n",
        "    for j in range(len(a)-1,i-1,-1):\n",
        "      if a[j]<a[j-1]:\n",
        "        a[j],a[j-1] = a[j-1],a[j]\n",
        "Bubble_Sort(a)\n",
        "print(a)"
      ],
      "execution_count": 0,
      "outputs": [
        {
          "output_type": "stream",
          "text": [
            "[ -91  118  -88  -57  144 -160  -16  210   78 -174]\n",
            "[-174 -160  -91  -88  -57  -16   78  118  144  210]\n"
          ],
          "name": "stdout"
        }
      ]
    },
    {
      "cell_type": "code",
      "metadata": {
        "id": "JXAMUhDXd2Yb",
        "colab_type": "code",
        "outputId": "152805ea-b56a-4ec6-b3d0-5ad245226e47",
        "colab": {
          "base_uri": "https://localhost:8080/",
          "height": 67
        }
      },
      "source": [
        "'''\n",
        "Shaker Sort\n",
        "Ý tưởng: Mỗi lần sắp xếp duyệt mảng từ 2 phía theo 2 hướng khác nhau\n",
        "        _ Lượt đi: đẩy phần tử nhỏ về đầu mảng\n",
        "        _ Lượt về: đẩy phần tử lớn về cuối mảng\n",
        "B1: l =1, r=N\n",
        "    k = N\n",
        "B2: \n",
        "    2a: j = r\n",
        "    while(j>l): \n",
        "      if(a[j]<a[j-1])\n",
        "        swap(a[j],a[j-1])\n",
        "        k = j\n",
        "    2b: j = l\n",
        "    while(j<r): \n",
        "      if(a[j]>a[j+1])\n",
        "        swap(a[j],a[j+1])\n",
        "        k = j\n",
        "    r = kf\n",
        "B3: Nếu l < r: B2\n",
        "    \n",
        "Trường hợp   |    Số lần so sánh   |   Số phép gán\n",
        "Tốt nhất     |     n(n-1)/2        | 0\n",
        "Xấu nhất     |     n(n-1)/2        | n(n-1)/2 \n",
        "'''\n",
        "a = [randint(-1<<8,1<<8) for p in range(0,10)]\n",
        "print(a)\n",
        "def Shaker_Sort(a):\n",
        "  l,r,k=0,len(a)-1,len(a)-1\n",
        "  while l <r:\n",
        "    for j in range(r,l,-1):\n",
        "      if a[j]<a[j-1]:\n",
        "        a[j],a[j-1] = a[j-1],a[j]\n",
        "        k = j\n",
        "    l =k\n",
        "    for j in range(l,r):\n",
        "      if a[j]>a[j+1]:\n",
        "        a[j],a[j+1] = a[j+1],a[j]\n",
        "        k=j\n",
        "    r=k\n",
        "Shaker_Sort(a)\n",
        "print(a)"
      ],
      "execution_count": 0,
      "outputs": [
        {
          "output_type": "stream",
          "text": [
            "[48, 218, -162, 181, 8, -207, -163, 224, 124, 177]\n",
            "[-207, -163, -162, 8, 48, 124, 177, 181, 218, 224]\n"
          ],
          "name": "stdout"
        }
      ]
    },
    {
      "cell_type": "code",
      "metadata": {
        "id": "vf1j4hZ2hB2W",
        "colab_type": "code",
        "outputId": "51f29ba0-3ed9-46cd-fba3-192de46b82e7",
        "colab": {
          "base_uri": "https://localhost:8080/",
          "height": 67
        }
      },
      "source": [
        "'''\n",
        "Heap Sort\n",
        "Ý tưởng: Sử dụng cấu trúc heap\n",
        "Giai đoạn 1: Hiệu chỉnh dải ban đầu thành heap\n",
        "Giai đoạn 2:\n",
        "B1: Đưa phần tử lớn nhất về vị trí cuối dãy\n",
        "B2: Loại bỏ phần tử lớn nhất khỏi heap: r -=1\n",
        "    Hiệu chỉnh phần còn lại thành heap\n",
        "B3: Nếu l < r: B2\n",
        "    Ngược lại: Dừng\n",
        "    \n",
        "Trường hợp   Xấu nhất: O(nlogn)\n",
        "'''\n",
        "a = [randint(-1<<8,1<<8) for p in range(0,10)]\n",
        "print(a)\n",
        "\n",
        "def To_Heap(a,index,r):\n",
        "  i,j=index,2*index+1\n",
        "  while j<= r:\n",
        "    if j<r and a[j]<a[j+1]:\n",
        "      j=j+1\n",
        "    if a[i]>a[j]:\n",
        "      break\n",
        "    else:\n",
        "      a[i],a[j]=a[j],a[i]\n",
        "      i,j=j,2*j+1\n",
        "      \n",
        "        \n",
        "def Create_Heap(a):\n",
        "  index, r = int(len(a)/2)-1,len(a)-1\n",
        "  while index>=0:\n",
        "    To_Heap(a,index,r)\n",
        "    index-=1\n",
        "  \n",
        "def Heap_Sort(a):\n",
        "  Create_Heap(a)\n",
        "  r = len(a)-1\n",
        "  while r >=0:\n",
        "    a[0],a[r] = a[r],a[0]\n",
        "    r-=1\n",
        "    To_Heap(a,0,r)\n",
        "Heap_Sort(a)\n",
        "print(a)"
      ],
      "execution_count": 0,
      "outputs": [
        {
          "output_type": "stream",
          "text": [
            "[4, -164, -147, 19, 125, -108, -157, -128, 156, -163]\n",
            "[-164, -163, -157, -147, -128, -108, 4, 19, 125, 156]\n"
          ],
          "name": "stdout"
        }
      ]
    },
    {
      "cell_type": "code",
      "metadata": {
        "id": "9J8J-I-niAgM",
        "colab_type": "code",
        "outputId": "5310e60e-5ed7-4604-8032-5ae1b90c15b4",
        "colab": {
          "base_uri": "https://localhost:8080/",
          "height": 45
        }
      },
      "source": [
        "a=[1,2,3]\n",
        "int(len(a)/2)"
      ],
      "execution_count": 0,
      "outputs": [
        {
          "output_type": "execute_result",
          "data": {
            "text/plain": [
              "1"
            ]
          },
          "metadata": {
            "tags": []
          },
          "execution_count": 4
        }
      ]
    },
    {
      "cell_type": "code",
      "metadata": {
        "id": "nKJtWILcNF3t",
        "colab_type": "code",
        "outputId": "575f0040-230b-4cdf-b4e6-c1bd26b89fa2",
        "colab": {
          "base_uri": "https://localhost:8080/",
          "height": 67
        }
      },
      "source": [
        "'''\n",
        "Quick Sort\n",
        "Ý tưởng: Lấy phần tử ở giữa là x, phân hoạch dãy thành 2 dãy con:\n",
        "          _ 1 gồm các phần tử nhỏ hơn x\n",
        "          _ 2 gồm các phần tử lớn hơn x\n",
        "        rồi áp dụng Quick sort lên từng dãy con\n",
        "Phân hoạch dãy\n",
        "  B1: Chọn tùy ý a[k] trong dãy là giá trị mốc\n",
        "      x  = a[k], i=l, j=r\n",
        "  B2: Phát hiện và hiệu chỉnh cặp phần tử a[i], a[j] nằm sai chỗ:\n",
        "      2a: while(a[i]<x): i++\n",
        "      2b: while(a[j]>x): j--\n",
        "      2c: Nếu i<j: a[i],a[j]=a[j],a[i]\n",
        "  B3: Nếu i<j: B2\n",
        "      Ngược lại: Dừng\n",
        "\n",
        "Sắp xếp dãy\n",
        "  B1: Phân hoạch dãy a_l,...,a_r thành các dãy con:\n",
        "        _ Dãy con 1: a_l,...,a_j <= x\n",
        "        _ Dãy con 2: a_(j+1),...,a_(i-1) == x\n",
        "        _ Dãy con 1: a_i,...,a_r >= x\n",
        "  B2: Nếu l <j\n",
        "        Phân hoạch dãy a_l,...,a_j\n",
        "      Nếu i<r\n",
        "        Phân hoạch dãy a_i,...,a_r\n",
        "Trường hợp   |\n",
        "Tốt nhất     |     nlogn\n",
        "Xấu nhất     |     n^2\n",
        "'''\n",
        "a = [randint(-10,10) for p in range(0,10)]\n",
        "print (a)\n",
        "def Quick_Sort(a,l,r):\n",
        "  x = a[int((l+r+1)/2)]\n",
        "  i,j=l,r\n",
        "  while i<j:\n",
        "    while a[i]<x:\n",
        "      i+=1\n",
        "    while a[j]>x:\n",
        "      j-=1\n",
        "    if i<=j:\n",
        "      a[i],a[j] = a[j],a[i]\n",
        "      i+=1\n",
        "      j-=1\n",
        "  if l<j:\n",
        "    Quick_Sort(a,l,j)\n",
        "  if i<r:\n",
        "    Quick_Sort(a,i,r)\n",
        "Quick_Sort(a,0,len(a)-1)\n",
        "print(a)"
      ],
      "execution_count": 0,
      "outputs": [
        {
          "output_type": "stream",
          "text": [
            "[7, 8, 9, -2, -4, 4, 8, -10, 8, -5]\n",
            "[-10, -5, -4, -2, 4, 7, 8, 8, 8, 9]\n"
          ],
          "name": "stdout"
        }
      ]
    },
    {
      "cell_type": "code",
      "metadata": {
        "id": "RygLwtoXU02n",
        "colab_type": "code",
        "colab": {}
      },
      "source": [
        ""
      ],
      "execution_count": 0,
      "outputs": []
    }
  ]
}